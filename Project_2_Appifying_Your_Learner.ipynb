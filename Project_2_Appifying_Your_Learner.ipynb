{
  "nbformat": 4,
  "nbformat_minor": 0,
  "metadata": {
    "colab": {
      "name": "Project 2: Appifying Your Learner",
      "provenance": [],
      "collapsed_sections": []
    },
    "kernelspec": {
      "name": "python3",
      "display_name": "Python 3"
    },
    "widgets": {
      "application/vnd.jupyter.widget-state+json": {
        "a7b5cdff74e543d5986a032be6a30f34": {
          "model_module": "@jupyter-widgets/controls",
          "model_name": "FileUploadModel",
          "state": {
            "_view_name": "FileUploadView",
            "_counter": 0,
            "style": "IPY_MODEL_55aa40c7b19747668c1c0807bf5df583",
            "_dom_classes": [],
            "description": "Upload",
            "multiple": false,
            "_model_name": "FileUploadModel",
            "data": [],
            "button_style": "",
            "_view_module": "@jupyter-widgets/controls",
            "_model_module_version": "1.5.0",
            "accept": "",
            "_view_count": null,
            "disabled": false,
            "_view_module_version": "1.5.0",
            "error": "",
            "description_tooltip": null,
            "metadata": [],
            "_model_module": "@jupyter-widgets/controls",
            "layout": "IPY_MODEL_a7c52004ba714cc0afad5a188b470483",
            "icon": "upload"
          }
        },
        "55aa40c7b19747668c1c0807bf5df583": {
          "model_module": "@jupyter-widgets/controls",
          "model_name": "ButtonStyleModel",
          "state": {
            "_view_name": "StyleView",
            "_model_name": "ButtonStyleModel",
            "_view_module": "@jupyter-widgets/base",
            "_model_module_version": "1.5.0",
            "_view_count": null,
            "button_color": null,
            "font_weight": "",
            "_view_module_version": "1.2.0",
            "_model_module": "@jupyter-widgets/controls"
          }
        },
        "a7c52004ba714cc0afad5a188b470483": {
          "model_module": "@jupyter-widgets/base",
          "model_name": "LayoutModel",
          "state": {
            "_view_name": "LayoutView",
            "grid_template_rows": null,
            "right": null,
            "justify_content": null,
            "_view_module": "@jupyter-widgets/base",
            "overflow": null,
            "_model_module_version": "1.2.0",
            "_view_count": null,
            "flex_flow": null,
            "width": null,
            "min_width": null,
            "border": null,
            "align_items": null,
            "bottom": null,
            "_model_module": "@jupyter-widgets/base",
            "top": null,
            "grid_column": null,
            "overflow_y": null,
            "overflow_x": null,
            "grid_auto_flow": null,
            "grid_area": null,
            "grid_template_columns": null,
            "flex": null,
            "_model_name": "LayoutModel",
            "justify_items": null,
            "grid_row": null,
            "max_height": null,
            "align_content": null,
            "visibility": null,
            "align_self": null,
            "height": null,
            "min_height": null,
            "padding": null,
            "grid_auto_rows": null,
            "grid_gap": null,
            "max_width": null,
            "order": null,
            "_view_module_version": "1.2.0",
            "grid_template_areas": null,
            "object_position": null,
            "object_fit": null,
            "grid_auto_columns": null,
            "margin": null,
            "display": null,
            "left": null
          }
        },
        "5bb1801d248d4c7bbb0f50ed8c332056": {
          "model_module": "@jupyter-widgets/output",
          "model_name": "OutputModel",
          "state": {
            "_view_name": "OutputView",
            "msg_id": "",
            "_dom_classes": [],
            "_model_name": "OutputModel",
            "outputs": [
              {
                "output_type": "display_data",
                "metadata": {
                  "tags": []
                },
                "image/png": "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\n",
                "text/plain": "<PIL.Image.Image image mode=RGB size=99x128 at 0x7F7FDD17FAD0>"
              }
            ],
            "_view_module": "@jupyter-widgets/output",
            "_model_module_version": "1.0.0",
            "_view_count": null,
            "_view_module_version": "1.0.0",
            "layout": "IPY_MODEL_ffacb190ba7c49e599e2c5fa953dd983",
            "_model_module": "@jupyter-widgets/output"
          }
        },
        "ffacb190ba7c49e599e2c5fa953dd983": {
          "model_module": "@jupyter-widgets/base",
          "model_name": "LayoutModel",
          "state": {
            "_view_name": "LayoutView",
            "grid_template_rows": null,
            "right": null,
            "justify_content": null,
            "_view_module": "@jupyter-widgets/base",
            "overflow": null,
            "_model_module_version": "1.2.0",
            "_view_count": null,
            "flex_flow": null,
            "width": null,
            "min_width": null,
            "border": null,
            "align_items": null,
            "bottom": null,
            "_model_module": "@jupyter-widgets/base",
            "top": null,
            "grid_column": null,
            "overflow_y": null,
            "overflow_x": null,
            "grid_auto_flow": null,
            "grid_area": null,
            "grid_template_columns": null,
            "flex": null,
            "_model_name": "LayoutModel",
            "justify_items": null,
            "grid_row": null,
            "max_height": null,
            "align_content": null,
            "visibility": null,
            "align_self": null,
            "height": null,
            "min_height": null,
            "padding": null,
            "grid_auto_rows": null,
            "grid_gap": null,
            "max_width": null,
            "order": null,
            "_view_module_version": "1.2.0",
            "grid_template_areas": null,
            "object_position": null,
            "object_fit": null,
            "grid_auto_columns": null,
            "margin": null,
            "display": null,
            "left": null
          }
        },
        "2cf908c420cb48919328f7703d1c8787": {
          "model_module": "@jupyter-widgets/controls",
          "model_name": "LabelModel",
          "state": {
            "_view_name": "LabelView",
            "style": "IPY_MODEL_91bfcd0442c34a44b1638c38acc1c430",
            "_dom_classes": [],
            "description": "",
            "_model_name": "LabelModel",
            "placeholder": "​",
            "_view_module": "@jupyter-widgets/controls",
            "_model_module_version": "1.5.0",
            "value": "Prediction: Recycling; Probability: 1.0000",
            "_view_count": null,
            "_view_module_version": "1.5.0",
            "description_tooltip": null,
            "_model_module": "@jupyter-widgets/controls",
            "layout": "IPY_MODEL_97559ff6794746608e212c24ceaf6ec0"
          }
        },
        "91bfcd0442c34a44b1638c38acc1c430": {
          "model_module": "@jupyter-widgets/controls",
          "model_name": "DescriptionStyleModel",
          "state": {
            "_view_name": "StyleView",
            "_model_name": "DescriptionStyleModel",
            "description_width": "",
            "_view_module": "@jupyter-widgets/base",
            "_model_module_version": "1.5.0",
            "_view_count": null,
            "_view_module_version": "1.2.0",
            "_model_module": "@jupyter-widgets/controls"
          }
        },
        "97559ff6794746608e212c24ceaf6ec0": {
          "model_module": "@jupyter-widgets/base",
          "model_name": "LayoutModel",
          "state": {
            "_view_name": "LayoutView",
            "grid_template_rows": null,
            "right": null,
            "justify_content": null,
            "_view_module": "@jupyter-widgets/base",
            "overflow": null,
            "_model_module_version": "1.2.0",
            "_view_count": null,
            "flex_flow": null,
            "width": null,
            "min_width": null,
            "border": null,
            "align_items": null,
            "bottom": null,
            "_model_module": "@jupyter-widgets/base",
            "top": null,
            "grid_column": null,
            "overflow_y": null,
            "overflow_x": null,
            "grid_auto_flow": null,
            "grid_area": null,
            "grid_template_columns": null,
            "flex": null,
            "_model_name": "LayoutModel",
            "justify_items": null,
            "grid_row": null,
            "max_height": null,
            "align_content": null,
            "visibility": null,
            "align_self": null,
            "height": null,
            "min_height": null,
            "padding": null,
            "grid_auto_rows": null,
            "grid_gap": null,
            "max_width": null,
            "order": null,
            "_view_module_version": "1.2.0",
            "grid_template_areas": null,
            "object_position": null,
            "object_fit": null,
            "grid_auto_columns": null,
            "margin": null,
            "display": null,
            "left": null
          }
        },
        "cdcdbf4e3acf440c9fd28fbbfdafa09c": {
          "model_module": "@jupyter-widgets/controls",
          "model_name": "ButtonModel",
          "state": {
            "_view_name": "ButtonView",
            "style": "IPY_MODEL_b71f06384209423dbb4ee2107f0be58d",
            "_dom_classes": [],
            "description": "Classify",
            "_model_name": "ButtonModel",
            "button_style": "",
            "_view_module": "@jupyter-widgets/controls",
            "_model_module_version": "1.5.0",
            "tooltip": "",
            "_view_count": null,
            "disabled": false,
            "_view_module_version": "1.5.0",
            "layout": "IPY_MODEL_da794147eba944e189cbcffc42446d06",
            "_model_module": "@jupyter-widgets/controls",
            "icon": ""
          }
        },
        "b71f06384209423dbb4ee2107f0be58d": {
          "model_module": "@jupyter-widgets/controls",
          "model_name": "ButtonStyleModel",
          "state": {
            "_view_name": "StyleView",
            "_model_name": "ButtonStyleModel",
            "_view_module": "@jupyter-widgets/base",
            "_model_module_version": "1.5.0",
            "_view_count": null,
            "button_color": null,
            "font_weight": "",
            "_view_module_version": "1.2.0",
            "_model_module": "@jupyter-widgets/controls"
          }
        },
        "da794147eba944e189cbcffc42446d06": {
          "model_module": "@jupyter-widgets/base",
          "model_name": "LayoutModel",
          "state": {
            "_view_name": "LayoutView",
            "grid_template_rows": null,
            "right": null,
            "justify_content": null,
            "_view_module": "@jupyter-widgets/base",
            "overflow": null,
            "_model_module_version": "1.2.0",
            "_view_count": null,
            "flex_flow": null,
            "width": null,
            "min_width": null,
            "border": null,
            "align_items": null,
            "bottom": null,
            "_model_module": "@jupyter-widgets/base",
            "top": null,
            "grid_column": null,
            "overflow_y": null,
            "overflow_x": null,
            "grid_auto_flow": null,
            "grid_area": null,
            "grid_template_columns": null,
            "flex": null,
            "_model_name": "LayoutModel",
            "justify_items": null,
            "grid_row": null,
            "max_height": null,
            "align_content": null,
            "visibility": null,
            "align_self": null,
            "height": null,
            "min_height": null,
            "padding": null,
            "grid_auto_rows": null,
            "grid_gap": null,
            "max_width": null,
            "order": null,
            "_view_module_version": "1.2.0",
            "grid_template_areas": null,
            "object_position": null,
            "object_fit": null,
            "grid_auto_columns": null,
            "margin": null,
            "display": null,
            "left": null
          }
        },
        "a6236dc55ef548edbb7ab162d34ac836": {
          "model_module": "@jupyter-widgets/controls",
          "model_name": "VBoxModel",
          "state": {
            "_view_name": "VBoxView",
            "_dom_classes": [],
            "_model_name": "VBoxModel",
            "_view_module": "@jupyter-widgets/controls",
            "_model_module_version": "1.5.0",
            "_view_count": null,
            "_view_module_version": "1.5.0",
            "box_style": "",
            "layout": "IPY_MODEL_e45a125e732f4c4d952763806ae9be9d",
            "_model_module": "@jupyter-widgets/controls",
            "children": [
              "IPY_MODEL_4850f1ef3071484b8416ad548270c004",
              "IPY_MODEL_a7b5cdff74e543d5986a032be6a30f34",
              "IPY_MODEL_cdcdbf4e3acf440c9fd28fbbfdafa09c",
              "IPY_MODEL_5bb1801d248d4c7bbb0f50ed8c332056",
              "IPY_MODEL_2cf908c420cb48919328f7703d1c8787"
            ]
          }
        },
        "e45a125e732f4c4d952763806ae9be9d": {
          "model_module": "@jupyter-widgets/base",
          "model_name": "LayoutModel",
          "state": {
            "_view_name": "LayoutView",
            "grid_template_rows": null,
            "right": null,
            "justify_content": null,
            "_view_module": "@jupyter-widgets/base",
            "overflow": null,
            "_model_module_version": "1.2.0",
            "_view_count": null,
            "flex_flow": null,
            "width": null,
            "min_width": null,
            "border": null,
            "align_items": null,
            "bottom": null,
            "_model_module": "@jupyter-widgets/base",
            "top": null,
            "grid_column": null,
            "overflow_y": null,
            "overflow_x": null,
            "grid_auto_flow": null,
            "grid_area": null,
            "grid_template_columns": null,
            "flex": null,
            "_model_name": "LayoutModel",
            "justify_items": null,
            "grid_row": null,
            "max_height": null,
            "align_content": null,
            "visibility": null,
            "align_self": null,
            "height": null,
            "min_height": null,
            "padding": null,
            "grid_auto_rows": null,
            "grid_gap": null,
            "max_width": null,
            "order": null,
            "_view_module_version": "1.2.0",
            "grid_template_areas": null,
            "object_position": null,
            "object_fit": null,
            "grid_auto_columns": null,
            "margin": null,
            "display": null,
            "left": null
          }
        },
        "4850f1ef3071484b8416ad548270c004": {
          "model_module": "@jupyter-widgets/controls",
          "model_name": "LabelModel",
          "state": {
            "_view_name": "LabelView",
            "style": "IPY_MODEL_d86541bd934c42a08c60235b04f0c1a4",
            "_dom_classes": [],
            "description": "",
            "_model_name": "LabelModel",
            "placeholder": "​",
            "_view_module": "@jupyter-widgets/controls",
            "_model_module_version": "1.5.0",
            "value": "Select your waste!",
            "_view_count": null,
            "_view_module_version": "1.5.0",
            "description_tooltip": null,
            "_model_module": "@jupyter-widgets/controls",
            "layout": "IPY_MODEL_5c66753a39bc444da8da6194b4a79cd6"
          }
        },
        "d86541bd934c42a08c60235b04f0c1a4": {
          "model_module": "@jupyter-widgets/controls",
          "model_name": "DescriptionStyleModel",
          "state": {
            "_view_name": "StyleView",
            "_model_name": "DescriptionStyleModel",
            "description_width": "",
            "_view_module": "@jupyter-widgets/base",
            "_model_module_version": "1.5.0",
            "_view_count": null,
            "_view_module_version": "1.2.0",
            "_model_module": "@jupyter-widgets/controls"
          }
        },
        "5c66753a39bc444da8da6194b4a79cd6": {
          "model_module": "@jupyter-widgets/base",
          "model_name": "LayoutModel",
          "state": {
            "_view_name": "LayoutView",
            "grid_template_rows": null,
            "right": null,
            "justify_content": null,
            "_view_module": "@jupyter-widgets/base",
            "overflow": null,
            "_model_module_version": "1.2.0",
            "_view_count": null,
            "flex_flow": null,
            "width": null,
            "min_width": null,
            "border": null,
            "align_items": null,
            "bottom": null,
            "_model_module": "@jupyter-widgets/base",
            "top": null,
            "grid_column": null,
            "overflow_y": null,
            "overflow_x": null,
            "grid_auto_flow": null,
            "grid_area": null,
            "grid_template_columns": null,
            "flex": null,
            "_model_name": "LayoutModel",
            "justify_items": null,
            "grid_row": null,
            "max_height": null,
            "align_content": null,
            "visibility": null,
            "align_self": null,
            "height": null,
            "min_height": null,
            "padding": null,
            "grid_auto_rows": null,
            "grid_gap": null,
            "max_width": null,
            "order": null,
            "_view_module_version": "1.2.0",
            "grid_template_areas": null,
            "object_position": null,
            "object_fit": null,
            "grid_auto_columns": null,
            "margin": null,
            "display": null,
            "left": null
          }
        }
      }
    }
  },
  "cells": [
    {
      "cell_type": "markdown",
      "metadata": {
        "id": "8GcgkGFE10JO"
      },
      "source": [
        "#Time to Use Widgets"
      ]
    },
    {
      "cell_type": "markdown",
      "metadata": {
        "id": "aGFY95h-vmPR"
      },
      "source": [
        "#Import Libraries, Connect to Google Drive and Fastbook"
      ]
    },
    {
      "cell_type": "markdown",
      "metadata": {
        "id": "Uo48sFkAvvlZ"
      },
      "source": [
        "Once again we need to connect to fastbook and connect to Google Drive."
      ]
    },
    {
      "cell_type": "code",
      "metadata": {
        "colab": {
          "base_uri": "https://localhost:8080/"
        },
        "id": "_B5JJKnU4ZMT",
        "outputId": "56b0ce36-e5f2-41aa-c929-bd17cd3bb721"
      },
      "source": [
        "!pip install -Uqq fastbook\n",
        "import fastbook\n",
        "fastbook.setup_book()"
      ],
      "execution_count": null,
      "outputs": [
        {
          "output_type": "stream",
          "text": [
            "\u001b[K     |████████████████████████████████| 727kB 5.6MB/s \n",
            "\u001b[K     |████████████████████████████████| 51kB 4.7MB/s \n",
            "\u001b[K     |████████████████████████████████| 1.2MB 8.6MB/s \n",
            "\u001b[K     |████████████████████████████████| 194kB 16.6MB/s \n",
            "\u001b[K     |████████████████████████████████| 61kB 4.7MB/s \n",
            "\u001b[K     |████████████████████████████████| 51kB 4.6MB/s \n",
            "\u001b[K     |████████████████████████████████| 776.8MB 23kB/s \n",
            "\u001b[K     |████████████████████████████████| 12.8MB 317kB/s \n",
            "\u001b[31mERROR: torchtext 0.9.1 has requirement torch==1.8.1, but you'll have torch 1.7.1 which is incompatible.\u001b[0m\n",
            "\u001b[?25hMounted at /content/gdrive\n"
          ],
          "name": "stdout"
        }
      ]
    },
    {
      "cell_type": "code",
      "metadata": {
        "id": "iychjxkvvitb"
      },
      "source": [
        "from fastbook import *"
      ],
      "execution_count": null,
      "outputs": []
    },
    {
      "cell_type": "markdown",
      "metadata": {
        "id": "mHTBoucH6CKT"
      },
      "source": [
        "#Load and test your pickel file"
      ]
    },
    {
      "cell_type": "markdown",
      "metadata": {
        "id": "FU9nMVim6L78"
      },
      "source": [
        "First we set our path and connect to our saved file."
      ]
    },
    {
      "cell_type": "code",
      "metadata": {
        "id": "6wnCZnWsa-eM"
      },
      "source": [
        "path = Path('gdrive/My Drive')"
      ],
      "execution_count": null,
      "outputs": []
    },
    {
      "cell_type": "code",
      "metadata": {
        "id": "O3iL4e6N78t1"
      },
      "source": [
        "learn_inf = load_learner(path/'export.pkl')"
      ],
      "execution_count": null,
      "outputs": []
    },
    {
      "cell_type": "markdown",
      "metadata": {
        "id": "RmGuNI-56H3z"
      },
      "source": [
        "Next, load an image to test. If it works, we are ready to move on to widgets!"
      ]
    },
    {
      "cell_type": "code",
      "metadata": {
        "id": "CiGWMpFA8QbM"
      },
      "source": [
        "fd = urlopen(\"data:image/jpeg;base64,/9j/4AAQSkZJRgABAQAAAQABAAD/2wCEAAkGBxMTEhUTEhIWExMXEhgVFRcXFxkYGBUZFxcWFxcXExkaHSkgGBolHR0YITEhJSkrLi4uFyAzODMsNygtLisBCgoKDg0OGhAQGy0lHyQ1Ny8tMzA1Nyw3Ni83NzYrNzIwNzItKzUvMS0wNy4rMTA3NywtLjUrKy0uLSsyMC0xMv/AABEIAP8AxQMBIgACEQEDEQH/xAAbAAEAAgMBAQAAAAAAAAAAAAAABAUCAwYBB//EAEEQAAEDAgMEBwUFBgUFAAAAAAEAAhEDIQQSMQVBUWEGEyJxgZGhMrHB0fAjQnKS4TNSYoKi8RQVJLLCFlPD0tP/xAAaAQEBAAMBAQAAAAAAAAAAAAAAAQMEBQIG/8QAKREBAAICAQMCBQUBAAAAAAAAAAECAxEEEiExQaEiM1FhcROBkbHhBf/aAAwDAQACEQMRAD8A+4oiICIiAiIgIiICIiAi8JWPWt4jzQZosOtbxHmvRUHEeaDJERAREQEREBERAREQEREBERAREQEREBERAREQacUez5KGpuIpZmkTHMRbzsuOO0K4+6T/AC/og6Mow9ofiHvVZi6zmNaQ+SdRDezbkF7sas6pVhzoAbm3XIIEac/RB0qIiAiIgIiICIiAiIgIiICIiAiIgIiICIiAiKu2vjsgDGntOn+Vo1KDVtPaGrW6AHMRy1A93eq3ENyMv7b4IE+w3d3uPPgtlFoklw7NOC4cX6NZ4aefFQK7y9xc43Ko8pNLSDmkA6SYcJ+9I1iFYvORzajCcrzLT+6Yuxx9L8uc1eTS58te9Tdn1AZpPPYdoT9124/BB0OCxYeODhqFJXLf4hzDm++ww4cf0cB5gG5IXSYXENqMD26ET+h5qDaiIgIiICIiAiIgIiICIiAiIgIiICIiDCtVDWlx3evADmSuUx1U9Z1kyRaBx3eE/wC0K221iL5R90SeZNmjwmfEKrdVy1AdYkx/Fx87qhijAFJpnKe3fWo7Xy0W6rswtpF7vbtAF4kifRZYCm1gNeqJvDRvcd5ULGY01DLgCNwImEEnY2HDszXgiwi3fPwWraGBdSN7t+6fh3qGwNBkMbPcfmrnAY9tQdTV32adO7uKCNXfmaHnUfZVuMH2Xe7xaFs2Biurf1ZPZfccnH56d4CjOBpOexwsWkHnvaR4x6qM+4aZvpPdJHwQduii7NxXWU2u36O7xY/XNSlAREQEREBERAREQEREBERAREQEREHKPrh1R0m5eT4AmPQN8gtdWnNwb6nd3Dyg8LrDFUoe4EgwTpHotTRE+0LW7XPXXgqJOMeajgCQxjQA0GSAO9oM961jDCDebWiI8ZhaRUfudN94H6LbTe8bmz3Af+QIMKNMGbkfW9evw8Cc7f6h6lseq9bXqyRaOZnympHqtT2u1Men/wBEEjF43rGtkdtti7cRu8VHboQeRXg+vjoSsvduQXPRipd7d0Bw79D8PJX6oOjVPtPdI0iJvrM9yv1AREQEREBERAREQEREBERAREQEREHFVKr+sewkWe4W38FJw9EOAILHZm5hGhBFi2JsVXGrOJqjhU+AVJsnZoq5aZZXoPc14zA9kSy7Z7LiyzYgmTquhkwU1E+Ozk8XkZLTaJnxMx7ut/ymb5G+Dj8gpOH2cQLQ0+J+Khbe2/1P2dIB1WJdPs0wdC6NSeHjwB47ae3sQ4EOxDxyZ2B/TBI71jxcS+Xx4Xkf9XFgt0z3n7PoLME4SSW35FaKuAdOjTz0XyD/AK2xeHfDaz3N1hxzA+DpX0bof02p4yGPhlaLR7L+6dDyVy8LJjjc94ZsXOrk1uNbWxwjt8fmJ+C1nCEakDlHulS9o1C0AjNMn2SybjIPbIntPaRcezM7jWU8YS456hLshyA1KbjGZrhLaYgHLvneZm0YK0iW1M21va36PPHWVGiSQ0STzk2V8ub6MXrViSLhlt+mpt8/gukXnLXVtGG3VSJERFjZRERAREQEREBERAREQEREBERB84c7/XVh/H8ApGwq7KVGrUDO2yk5zj2YcAJAhhjcNwVfj35cdVI/7nwCs9rUv9FiMjQHGi6SALgXMka2C7GWvwU+8Q+c4uXWTNEeYmzmcFiRRdUOPa6n1lMuDqjS0l7qlNrnMnUta4ugbgpmNqbOe4RUw75e5tqzBMdbAH2gLR2WHPDgQ6wkhcttrpHQruxWHAZQp1jUqMrVOsd9salIte4BpNIFrXDsg3dwWx21NnVK4Yynh20zRruY84dgisK9TqjUzUyAzqJIDgWyWZh2Rly2rfUdpj8fhu8biYq+NTv1nvK0OzNkuIl+HMEQP8UIqEdaHBpLxkEgOlwIIaBvBXBYjHGliespAMpNrVBRqMaWtqNZVdD2mSHG40JiGhX9IYd2ch1HDsZtWjiA0F8dUxhbUFFwpgntHg0cLAK4dtLCZ6IqMpT/AIbDuomoHvY+m59Y1mnPTrAF32ZMNY5wLhnFlaWms+tm3mwRFdWjp9nfbOxLMVQpVjla4icxYx0EAtc1peCGyfQrbQwruqfmfBc6QC5hESC3KGgNafu7+82VJ0Y2k2js8VsQ6znuOl3EmAGjeTBWzD9IKQr9XVoupuc0lhlpzRoDAkExx3jiuVes1tMR9W5wuNk5GD9SYnpiO8/37d+29Ljof+1rnlT8bHl811K5XoWyH1zypCeMB2lvnquqXjP8yWtxflVERFhbAiIgIiICIiAiIgIiICIiAiIg+fbRwIOLqk/v/AFWmCxFJwLS8EEQQ61iIi/f6rTjKUV6hnNNQnu5Hu08Fpw+AdNixzZmIynVvAX0N54LpWyRakRvxDicfjzjy3tautzM+75X0q2B1dVzBBgyHbntPsuG7TgqmuHMdTMSQ05g3edJ+uC+87U6P0sRRbTeMrmt7Dhct5SdRyXH1+g9VpIDQ8fvAi/hqD4LcxcnHkrEXnUw948/J4HVGGvVE619tTv/AB8vq4Z/VspicxcXEk8Rfw+RV5s3Z1as8PrOdUqGGgkySBDWtHhAAXb4boVULhLA3iSbeWpXWbH6P06BzE53jS1m93E8/RXLy8WOPhncsGTJzOdMRavRWIiP4jXb6uZ2zTdRqUMMKbHMp0A8zEyXlr+rzODSTI1UGu4h1JjKjWONRgdSaaYgOcMwaKbbbpl2gXW9KNhtxBpvFn0zIvGYa5SSDF4vB3qtwWy/tRVrEZ2A5RndUN95mAI5AanVcre53L7rj8/jYuFXHHmKzGtevfX7T6yvuiVaauJZuYaY1nVrnRAFtRqZvuET0yo+jbGTVc32nFua5JsCBbcNbd6vFgyTu0y4OONViBEReHsREQEREBERAREQEREBERAREQcVtLEltao1wkZzHEAnNY7l4KrRcyAbiwIjvOvmpfSrZs1BUBiWgHhYhsnhq1ULXHtMdq2zf3RrJjyvpxVFzTxrB96Pzj3mFYUKzi2Wy4TqId65lyz8z8rWsJgbtTG/SQrDZmAqsOY1uqGpYIdOntDSfXRBdMqVZvp+Af8AssMRiIPakHmYHk1R3Yqo/O3rmMEdlzWGeeaXENUJ+zwCXVH1KruIjKeFiJHhZDTPGbRot9otHK7ifzH4KMMU51qdMwdC4ZBHHnvU1mEoyOywwN4l3mfZHoLLc924nMRqfcCdSYjXl3ALLo7RLWuJIMxcCBvMNG4XVwoeyaWWk2dT2uAvpA3WhTFAREQEREBERAREQEREBERAREQEREFftyBSLjoCJ5g2jzjyXNMwrajgYs5uuYNLdMrgDqLgHWxXV7UaDSeDbs/29Vyj8M1wAjTTl3KjfVa2kctRsB2W7YcJAuYgtzeCye+WZWuo1BFsxDHA8crgJPMlROrqgiHyBueAR6iy3kEjttpAx90NtwmRa0D5IIFV5JAIAgbi02ibkyFZUn5GwarBya4vPccoIAWhuHAdLmwCP4IP4QRHit9RrI7LZ7ss+cW8kHjMjpcYA1AB7RgWDQAAJ4wO9e4WlJaIgy2I3EkRrfesWkwIbEcy6437hry3BbsA0GswnUHU68Y8SAg6gBeoigIiICIiAiIgIiICIiAiIgIiICIiCu24+Kfe4D3n4KgLhPDU8rK36RVPZb3k+4fXJUOIbm0171Rva5p0Mny0XrIsALkwND5b1Eo0XNMnh71tkjQCS4EazrYDkg3C2bMJIm0CRG8jcFqZUYf3h5L2qRF3CTMyDYmJg/WpWjq+DgUG4lvF3os2VQ0tIF80z3LR1RXpFuEHjyQdui0YGrmpsdpLR4cQt6gIiICIiAiIgIiICIiAiIgIiICIiCi21WiqLAw0WNxqZlVVV4m7ZvugQpu2HHrncBA/pBVeRM+Ko8Nek37hJHM/NSaWNJFhAjSfG8Ktq0p71nSpOgEaExOgnx0/RBJbjMoJ15TCxGOnWmY45vlvWLcG92kHfYhYHDuG76CDaazIs0+Ll7TfYwAJtzA5c1oFErdTbG8E8r62QdPsV80m8iR6lTlVdHCercHbqhjkIaffKtVAREQEREBERAREQEREBERAREQEREHM7W/bO7x/taocngD4qZtcfau4giOdm6qGx2o5nwniqM+tE3YD3z8CvM7TuheVhaVls+gHOvoLxx4BBg1rZOhQOp/uA/XKFb1cO1wIIHfw4KjFMzEb40QbiW7gPIx6uWIEA8xdZ5baf3WBdrF+5Bf9Hv2bvx/8Wq0VV0dHYd+P/i1WqgIiICIiAiIgIiICIiAiIgIiICIiDltsz1zo0zCfys1ULrSDqRB3FTtvMIrEi0hp5G0X8lCLhfNTI/DceWoHIKjYMR3Hwj3LdRfm0BPGBKjhjDvjxy+hupeEhk758fUWQa6dEyZY4/y/osHVwP1CmsxpJPZEd5+ShVaLZJJ1MxIGvCRKDWa3C3db5FY5rH681sFIDcff8gvHixFgPAkX3bge5BedHD9m60faR/SzVWyq+jlOKXe8n0AVooCIiAiIgIiICIiAiIgIiICIiAiIgpekOHnK8D+E+9vrPmqIkxfzjVdrUphwIIkHVc1i8E6mYynKfvC/8x+PPjKophiCDAMmdJ/RWbvhZYFzbizt+gvG+4+pWXWfwt7gQfdog0YLrYmoYFsoMSOZI3/ot1V8NknLA1/svTUnnGscV651hpHLKTz4wgi0zO8u8lu0E8pj6+rr2m5pBggmLNAkk8hB+Gqttm7K0dUEb43nhm5Dh/ZBP2VSLabQe9S0RQEREBERAREQEREBERAREQEREBERAREQaMRg2P8AaaDz3+YUN2w6RP3vzFWaIKv/ACGjwP5it9LZVFujB4kn3lTUQeNaBoIXqIgIiICIiAiIgIiICIiD/9k=\")\n",
        "image_file = io.BytesIO(fd.read())\n",
        "img = PILImage.create(image_file)"
      ],
      "execution_count": null,
      "outputs": []
    },
    {
      "cell_type": "code",
      "metadata": {
        "id": "qmgyMN-R8BVc",
        "colab": {
          "base_uri": "https://localhost:8080/",
          "height": 69
        },
        "outputId": "82e96dd0-a0d0-4690-f2d5-31eca15f4262"
      },
      "source": [
        "learn_inf.predict(img)"
      ],
      "execution_count": null,
      "outputs": [
        {
          "output_type": "display_data",
          "data": {
            "text/html": [
              ""
            ],
            "text/plain": [
              "<IPython.core.display.HTML object>"
            ]
          },
          "metadata": {
            "tags": []
          }
        },
        {
          "output_type": "execute_result",
          "data": {
            "text/plain": [
              "('Recycling',\n",
              " tensor(2),\n",
              " tensor([1.3690e-16, 4.4693e-08, 1.0000e+00, 5.6033e-08]))"
            ]
          },
          "metadata": {
            "tags": []
          },
          "execution_count": 7
        }
      ]
    },
    {
      "cell_type": "markdown",
      "metadata": {
        "id": "fQSE6Wp36VvM"
      },
      "source": [
        "#Widgets!"
      ]
    },
    {
      "cell_type": "markdown",
      "metadata": {
        "id": "H_dHfVwe6X4r"
      },
      "source": [
        "We need to add an import statement to access the pre-built widgets."
      ]
    },
    {
      "cell_type": "code",
      "metadata": {
        "id": "4jnPjyyb1PZZ"
      },
      "source": [
        "from fastai.vision.widgets import *"
      ],
      "execution_count": null,
      "outputs": []
    },
    {
      "cell_type": "markdown",
      "metadata": {
        "id": "uuNItOHu6cCL"
      },
      "source": [
        "First, we build a FileUpload widget. This widget lets you search for a file on your computer, tablet or phone to upload into a learner. You can see how many files are uploaded by the number in parentheses on the button. For image classification we just want one image."
      ]
    },
    {
      "cell_type": "code",
      "metadata": {
        "colab": {
          "base_uri": "https://localhost:8080/",
          "height": 49,
          "referenced_widgets": [
            "a7b5cdff74e543d5986a032be6a30f34",
            "55aa40c7b19747668c1c0807bf5df583",
            "a7c52004ba714cc0afad5a188b470483"
          ]
        },
        "id": "bNdHdYq4_7sq",
        "outputId": "9d534cc6-6dbd-44cd-ae52-325a43dcca0d"
      },
      "source": [
        "btn_upload = widgets.FileUpload()\n",
        "btn_upload"
      ],
      "execution_count": null,
      "outputs": [
        {
          "output_type": "display_data",
          "data": {
            "application/vnd.jupyter.widget-view+json": {
              "model_id": "a7b5cdff74e543d5986a032be6a30f34",
              "version_minor": 0,
              "version_major": 2
            },
            "text/plain": [
              "FileUpload(value={}, description='Upload')"
            ]
          },
          "metadata": {
            "tags": []
          }
        }
      ]
    },
    {
      "cell_type": "markdown",
      "metadata": {
        "id": "vQDuvUKz6sPs"
      },
      "source": [
        "Next we want an output widget. This will display a provided image. For now, we can test it with our image from above."
      ]
    },
    {
      "cell_type": "code",
      "metadata": {
        "colab": {
          "base_uri": "https://localhost:8080/",
          "height": 145,
          "referenced_widgets": [
            "5bb1801d248d4c7bbb0f50ed8c332056",
            "ffacb190ba7c49e599e2c5fa953dd983"
          ]
        },
        "id": "ChsbZjq4Embo",
        "outputId": "d672a9ca-c193-4a7a-eacd-5ab3456a6d6f"
      },
      "source": [
        "out_pl = widgets.Output()\n",
        "out_pl.clear_output()\n",
        "with out_pl: display(img.to_thumb(128,128))\n",
        "out_pl"
      ],
      "execution_count": null,
      "outputs": [
        {
          "output_type": "display_data",
          "data": {
            "application/vnd.jupyter.widget-view+json": {
              "model_id": "5bb1801d248d4c7bbb0f50ed8c332056",
              "version_minor": 0,
              "version_major": 2
            },
            "text/plain": [
              "Output()"
            ]
          },
          "metadata": {
            "tags": []
          }
        }
      ]
    },
    {
      "cell_type": "markdown",
      "metadata": {
        "id": "7wuD6IMu7Ijk"
      },
      "source": [
        "Next we are going to add a label widget. Here, we are going to display our prediction and probability. At the end you can choose how many decimal points to display. \n",
        "\n",
        "```\n",
        "{probs[pred_idx]:.04f}\n",
        "```\n",
        "will display your probability to 4 decimal points.\n"
      ]
    },
    {
      "cell_type": "code",
      "metadata": {
        "colab": {
          "base_uri": "https://localhost:8080/",
          "height": 49,
          "referenced_widgets": [
            "2cf908c420cb48919328f7703d1c8787",
            "91bfcd0442c34a44b1638c38acc1c430",
            "97559ff6794746608e212c24ceaf6ec0"
          ]
        },
        "id": "vAzNQYTzEBIv",
        "outputId": "a90d943c-806f-4e93-b6c5-f3ed1476d17c"
      },
      "source": [
        "pred,pred_idx,probs = learn_inf.predict(img)\n",
        "lbl_pred = widgets.Label()\n",
        "lbl_pred.value = f'Prediction: {pred}; Probability: {probs[pred_idx]:.04f}'\n",
        "lbl_pred"
      ],
      "execution_count": null,
      "outputs": [
        {
          "output_type": "display_data",
          "data": {
            "text/html": [
              ""
            ],
            "text/plain": [
              "<IPython.core.display.HTML object>"
            ]
          },
          "metadata": {
            "tags": []
          }
        },
        {
          "output_type": "display_data",
          "data": {
            "application/vnd.jupyter.widget-view+json": {
              "model_id": "2cf908c420cb48919328f7703d1c8787",
              "version_minor": 0,
              "version_major": 2
            },
            "text/plain": [
              "Label(value='Prediction: Recycling; Probability: 1.0000')"
            ]
          },
          "metadata": {
            "tags": []
          }
        }
      ]
    },
    {
      "cell_type": "markdown",
      "metadata": {
        "id": "vsgaW2ww7hFi"
      },
      "source": [
        "Next, build a plain button. I'm labeling mine 'Classify'."
      ]
    },
    {
      "cell_type": "code",
      "metadata": {
        "colab": {
          "base_uri": "https://localhost:8080/",
          "height": 49,
          "referenced_widgets": [
            "cdcdbf4e3acf440c9fd28fbbfdafa09c",
            "b71f06384209423dbb4ee2107f0be58d",
            "da794147eba944e189cbcffc42446d06"
          ]
        },
        "id": "m40M-gtwEP6V",
        "outputId": "6ee0a5d3-5021-4771-c95b-5eacac5d88f5"
      },
      "source": [
        "btn_run = widgets.Button(description='Classify')\n",
        "btn_run"
      ],
      "execution_count": null,
      "outputs": [
        {
          "output_type": "display_data",
          "data": {
            "application/vnd.jupyter.widget-view+json": {
              "model_id": "cdcdbf4e3acf440c9fd28fbbfdafa09c",
              "version_minor": 0,
              "version_major": 2
            },
            "text/plain": [
              "Button(description='Classify', style=ButtonStyle())"
            ]
          },
          "metadata": {
            "tags": []
          }
        }
      ]
    },
    {
      "cell_type": "markdown",
      "metadata": {
        "id": "RobjmOYQ7oER"
      },
      "source": [
        "The last piece of setup is to build a function that ties everything together. \n",
        "\n",
        "You can see in my function below we first create an image using the last piece of uploaded data. \n",
        "\n",
        "\n",
        "\n",
        "```\n",
        "    img = PILImage.create(btn_upload.data[-1])\n",
        "```\n",
        "\n",
        "\n",
        "\n",
        "Then, this function clears the output widget and display our created image at the size 128, 128. \n",
        "\n",
        "\n",
        "```\n",
        "    out_pl.clear_output()\n",
        "    with out_pl: display(img.to_thumb(128,128))\n",
        "```\n",
        "\n",
        "Next, we use our label widget to print out the prediction and probability.\n",
        "\n",
        "\n",
        "```\n",
        "    pred,pred_idx,probs = learn_inf.predict(img)\n",
        "    lbl_pred.value = f'Prediction: {pred}; Probability: {probs[pred_idx]:.04f}\n",
        "```\n",
        "\n",
        "And finally we link the button above ('Classify') which we named 'btn_run' to this function, which we named 'on_click_classify'. \n",
        "\n",
        "\n",
        "\n",
        "```\n",
        "btn_run.on_click(on_click_classify)\n",
        "```\n",
        "\n"
      ]
    },
    {
      "cell_type": "code",
      "metadata": {
        "id": "QOOhhRguEYHJ"
      },
      "source": [
        "def on_click_classify(change):\n",
        "    img = PILImage.create(btn_upload.data[-1])\n",
        "    out_pl.clear_output()\n",
        "    with out_pl: display(img.to_thumb(128,128))\n",
        "    pred,pred_idx,probs = learn_inf.predict(img)\n",
        "    lbl_pred.value = f'Prediction: {pred}; Probability: {probs[pred_idx]:.04f}'\n",
        "\n",
        "btn_run.on_click(on_click_classify)"
      ],
      "execution_count": null,
      "outputs": []
    },
    {
      "cell_type": "markdown",
      "metadata": {
        "id": "dY1mqCGK84jL"
      },
      "source": [
        "And now that everything has been set up we just want to move all the widgets together. We can do this with a VBox object. Then, we include the widgets we want to display. This includes a new \"Select your Bear!\" label widget, an upload widget, the run widget, our output and prediction label."
      ]
    },
    {
      "cell_type": "code",
      "metadata": {
        "colab": {
          "base_uri": "https://localhost:8080/",
          "height": 925,
          "referenced_widgets": [
            "a6236dc55ef548edbb7ab162d34ac836",
            "e45a125e732f4c4d952763806ae9be9d",
            "4850f1ef3071484b8416ad548270c004",
            "a7b5cdff74e543d5986a032be6a30f34",
            "cdcdbf4e3acf440c9fd28fbbfdafa09c",
            "5bb1801d248d4c7bbb0f50ed8c332056",
            "2cf908c420cb48919328f7703d1c8787",
            "d86541bd934c42a08c60235b04f0c1a4",
            "5c66753a39bc444da8da6194b4a79cd6",
            "55aa40c7b19747668c1c0807bf5df583",
            "a7c52004ba714cc0afad5a188b470483",
            "b71f06384209423dbb4ee2107f0be58d",
            "da794147eba944e189cbcffc42446d06",
            "91bfcd0442c34a44b1638c38acc1c430",
            "97559ff6794746608e212c24ceaf6ec0",
            "ffacb190ba7c49e599e2c5fa953dd983"
          ]
        },
        "id": "30PYBlv-EymF",
        "outputId": "0b3bfee5-584e-4f32-cfa9-454d7ee18bb2"
      },
      "source": [
        "VBox([widgets.Label('Select your waste!'), \n",
        "      btn_upload, btn_run, out_pl, lbl_pred])"
      ],
      "execution_count": null,
      "outputs": [
        {
          "output_type": "display_data",
          "data": {
            "application/vnd.jupyter.widget-view+json": {
              "model_id": "a6236dc55ef548edbb7ab162d34ac836",
              "version_minor": 0,
              "version_major": 2
            },
            "text/plain": [
              "VBox(children=(Label(value='Select your waste!'), FileUpload(value={}, description='Upload'), Button(descripti…"
            ]
          },
          "metadata": {
            "tags": []
          }
        },
        {
          "output_type": "error",
          "ename": "IndexError",
          "evalue": "ignored",
          "traceback": [
            "\u001b[0;31m---------------------------------------------------------------------------\u001b[0m",
            "\u001b[0;31mIndexError\u001b[0m                                Traceback (most recent call last)",
            "\u001b[0;32m<ipython-input-13-e85f52797c49>\u001b[0m in \u001b[0;36mon_click_classify\u001b[0;34m(change)\u001b[0m\n\u001b[1;32m      1\u001b[0m \u001b[0;32mdef\u001b[0m \u001b[0mon_click_classify\u001b[0m\u001b[0;34m(\u001b[0m\u001b[0mchange\u001b[0m\u001b[0;34m)\u001b[0m\u001b[0;34m:\u001b[0m\u001b[0;34m\u001b[0m\u001b[0;34m\u001b[0m\u001b[0m\n\u001b[0;32m----> 2\u001b[0;31m     \u001b[0mimg\u001b[0m \u001b[0;34m=\u001b[0m \u001b[0mPILImage\u001b[0m\u001b[0;34m.\u001b[0m\u001b[0mcreate\u001b[0m\u001b[0;34m(\u001b[0m\u001b[0mbtn_upload\u001b[0m\u001b[0;34m.\u001b[0m\u001b[0mdata\u001b[0m\u001b[0;34m[\u001b[0m\u001b[0;34m-\u001b[0m\u001b[0;36m1\u001b[0m\u001b[0;34m]\u001b[0m\u001b[0;34m)\u001b[0m\u001b[0;34m\u001b[0m\u001b[0;34m\u001b[0m\u001b[0m\n\u001b[0m\u001b[1;32m      3\u001b[0m     \u001b[0mout_pl\u001b[0m\u001b[0;34m.\u001b[0m\u001b[0mclear_output\u001b[0m\u001b[0;34m(\u001b[0m\u001b[0;34m)\u001b[0m\u001b[0;34m\u001b[0m\u001b[0;34m\u001b[0m\u001b[0m\n\u001b[1;32m      4\u001b[0m     \u001b[0;32mwith\u001b[0m \u001b[0mout_pl\u001b[0m\u001b[0;34m:\u001b[0m \u001b[0mdisplay\u001b[0m\u001b[0;34m(\u001b[0m\u001b[0mimg\u001b[0m\u001b[0;34m.\u001b[0m\u001b[0mto_thumb\u001b[0m\u001b[0;34m(\u001b[0m\u001b[0;36m128\u001b[0m\u001b[0;34m,\u001b[0m\u001b[0;36m128\u001b[0m\u001b[0;34m)\u001b[0m\u001b[0;34m)\u001b[0m\u001b[0;34m\u001b[0m\u001b[0;34m\u001b[0m\u001b[0m\n\u001b[1;32m      5\u001b[0m     \u001b[0mpred\u001b[0m\u001b[0;34m,\u001b[0m\u001b[0mpred_idx\u001b[0m\u001b[0;34m,\u001b[0m\u001b[0mprobs\u001b[0m \u001b[0;34m=\u001b[0m \u001b[0mlearn_inf\u001b[0m\u001b[0;34m.\u001b[0m\u001b[0mpredict\u001b[0m\u001b[0;34m(\u001b[0m\u001b[0mimg\u001b[0m\u001b[0;34m)\u001b[0m\u001b[0;34m\u001b[0m\u001b[0;34m\u001b[0m\u001b[0m\n",
            "\u001b[0;31mIndexError\u001b[0m: list index out of range"
          ]
        },
        {
          "output_type": "error",
          "ename": "IndexError",
          "evalue": "ignored",
          "traceback": [
            "\u001b[0;31m---------------------------------------------------------------------------\u001b[0m",
            "\u001b[0;31mIndexError\u001b[0m                                Traceback (most recent call last)",
            "\u001b[0;32m<ipython-input-14-e85f52797c49>\u001b[0m in \u001b[0;36mon_click_classify\u001b[0;34m(change)\u001b[0m\n\u001b[1;32m      1\u001b[0m \u001b[0;32mdef\u001b[0m \u001b[0mon_click_classify\u001b[0m\u001b[0;34m(\u001b[0m\u001b[0mchange\u001b[0m\u001b[0;34m)\u001b[0m\u001b[0;34m:\u001b[0m\u001b[0;34m\u001b[0m\u001b[0;34m\u001b[0m\u001b[0m\n\u001b[0;32m----> 2\u001b[0;31m     \u001b[0mimg\u001b[0m \u001b[0;34m=\u001b[0m \u001b[0mPILImage\u001b[0m\u001b[0;34m.\u001b[0m\u001b[0mcreate\u001b[0m\u001b[0;34m(\u001b[0m\u001b[0mbtn_upload\u001b[0m\u001b[0;34m.\u001b[0m\u001b[0mdata\u001b[0m\u001b[0;34m[\u001b[0m\u001b[0;34m-\u001b[0m\u001b[0;36m1\u001b[0m\u001b[0;34m]\u001b[0m\u001b[0;34m)\u001b[0m\u001b[0;34m\u001b[0m\u001b[0;34m\u001b[0m\u001b[0m\n\u001b[0m\u001b[1;32m      3\u001b[0m     \u001b[0mout_pl\u001b[0m\u001b[0;34m.\u001b[0m\u001b[0mclear_output\u001b[0m\u001b[0;34m(\u001b[0m\u001b[0;34m)\u001b[0m\u001b[0;34m\u001b[0m\u001b[0;34m\u001b[0m\u001b[0m\n\u001b[1;32m      4\u001b[0m     \u001b[0;32mwith\u001b[0m \u001b[0mout_pl\u001b[0m\u001b[0;34m:\u001b[0m \u001b[0mdisplay\u001b[0m\u001b[0;34m(\u001b[0m\u001b[0mimg\u001b[0m\u001b[0;34m.\u001b[0m\u001b[0mto_thumb\u001b[0m\u001b[0;34m(\u001b[0m\u001b[0;36m128\u001b[0m\u001b[0;34m,\u001b[0m\u001b[0;36m128\u001b[0m\u001b[0;34m)\u001b[0m\u001b[0;34m)\u001b[0m\u001b[0;34m\u001b[0m\u001b[0;34m\u001b[0m\u001b[0m\n\u001b[1;32m      5\u001b[0m     \u001b[0mpred\u001b[0m\u001b[0;34m,\u001b[0m\u001b[0mpred_idx\u001b[0m\u001b[0;34m,\u001b[0m\u001b[0mprobs\u001b[0m \u001b[0;34m=\u001b[0m \u001b[0mlearn_inf\u001b[0m\u001b[0;34m.\u001b[0m\u001b[0mpredict\u001b[0m\u001b[0;34m(\u001b[0m\u001b[0mimg\u001b[0m\u001b[0;34m)\u001b[0m\u001b[0;34m\u001b[0m\u001b[0;34m\u001b[0m\u001b[0m\n",
            "\u001b[0;31mIndexError\u001b[0m: list index out of range"
          ]
        },
        {
          "output_type": "error",
          "ename": "IndexError",
          "evalue": "ignored",
          "traceback": [
            "\u001b[0;31m---------------------------------------------------------------------------\u001b[0m",
            "\u001b[0;31mIndexError\u001b[0m                                Traceback (most recent call last)",
            "\u001b[0;32m<ipython-input-15-e85f52797c49>\u001b[0m in \u001b[0;36mon_click_classify\u001b[0;34m(change)\u001b[0m\n\u001b[1;32m      1\u001b[0m \u001b[0;32mdef\u001b[0m \u001b[0mon_click_classify\u001b[0m\u001b[0;34m(\u001b[0m\u001b[0mchange\u001b[0m\u001b[0;34m)\u001b[0m\u001b[0;34m:\u001b[0m\u001b[0;34m\u001b[0m\u001b[0;34m\u001b[0m\u001b[0m\n\u001b[0;32m----> 2\u001b[0;31m     \u001b[0mimg\u001b[0m \u001b[0;34m=\u001b[0m \u001b[0mPILImage\u001b[0m\u001b[0;34m.\u001b[0m\u001b[0mcreate\u001b[0m\u001b[0;34m(\u001b[0m\u001b[0mbtn_upload\u001b[0m\u001b[0;34m.\u001b[0m\u001b[0mdata\u001b[0m\u001b[0;34m[\u001b[0m\u001b[0;34m-\u001b[0m\u001b[0;36m1\u001b[0m\u001b[0;34m]\u001b[0m\u001b[0;34m)\u001b[0m\u001b[0;34m\u001b[0m\u001b[0;34m\u001b[0m\u001b[0m\n\u001b[0m\u001b[1;32m      3\u001b[0m     \u001b[0mout_pl\u001b[0m\u001b[0;34m.\u001b[0m\u001b[0mclear_output\u001b[0m\u001b[0;34m(\u001b[0m\u001b[0;34m)\u001b[0m\u001b[0;34m\u001b[0m\u001b[0;34m\u001b[0m\u001b[0m\n\u001b[1;32m      4\u001b[0m     \u001b[0;32mwith\u001b[0m \u001b[0mout_pl\u001b[0m\u001b[0;34m:\u001b[0m \u001b[0mdisplay\u001b[0m\u001b[0;34m(\u001b[0m\u001b[0mimg\u001b[0m\u001b[0;34m.\u001b[0m\u001b[0mto_thumb\u001b[0m\u001b[0;34m(\u001b[0m\u001b[0;36m128\u001b[0m\u001b[0;34m,\u001b[0m\u001b[0;36m128\u001b[0m\u001b[0;34m)\u001b[0m\u001b[0;34m)\u001b[0m\u001b[0;34m\u001b[0m\u001b[0;34m\u001b[0m\u001b[0m\n\u001b[1;32m      5\u001b[0m     \u001b[0mpred\u001b[0m\u001b[0;34m,\u001b[0m\u001b[0mpred_idx\u001b[0m\u001b[0;34m,\u001b[0m\u001b[0mprobs\u001b[0m \u001b[0;34m=\u001b[0m \u001b[0mlearn_inf\u001b[0m\u001b[0;34m.\u001b[0m\u001b[0mpredict\u001b[0m\u001b[0;34m(\u001b[0m\u001b[0mimg\u001b[0m\u001b[0;34m)\u001b[0m\u001b[0;34m\u001b[0m\u001b[0;34m\u001b[0m\u001b[0m\n",
            "\u001b[0;31mIndexError\u001b[0m: list index out of range"
          ]
        }
      ]
    },
    {
      "cell_type": "markdown",
      "metadata": {
        "id": "y4smHydV9KCB"
      },
      "source": [
        "With all of our widgets built and put together we have all the pieces we need to deploy our classifier as an app. In the next notebook we will trim this all down to just what we need to store on Binder."
      ]
    }
  ]
}